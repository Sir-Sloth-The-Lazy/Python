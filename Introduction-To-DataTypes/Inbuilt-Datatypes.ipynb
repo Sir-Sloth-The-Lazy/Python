{
 "cells": [
  {
   "cell_type": "code",
   "id": "initial_id",
   "metadata": {
    "collapsed": true,
    "ExecuteTime": {
     "end_time": "2025-02-23T06:31:03.136709Z",
     "start_time": "2025-02-23T06:31:03.128392Z"
    }
   },
   "source": "print(\"check\")",
   "outputs": [
    {
     "name": "stdout",
     "output_type": "stream",
     "text": [
      "check\n"
     ]
    }
   ],
   "execution_count": 1
  },
  {
   "metadata": {},
   "cell_type": "markdown",
   "source": [
    "Python has built-in data types to handle different kinds of data. These data types are categorized as follows:\n",
    "\n",
    "\t1.\tNumeric Types → int, float, complex\n",
    "\t2.\tSequence Types → list, tuple, range\n",
    "\t3.\tText Type → str\n",
    "\t4.\tSet Types → set, frozenset\n",
    "\t5.\tMapping Type → dict\n",
    "\t6.\tBoolean Type → bool\n",
    "\t7.\tBinary Types → bytes, bytearray, memoryview\n",
    "\t8.\tNone Type → NoneType\n"
   ],
   "id": "ce7c1bfdaadf138"
  },
  {
   "metadata": {},
   "cell_type": "markdown",
   "source": [
    "# 1. Numeric Data Types\n",
    "\n",
    "    Used for storing numbers.\n",
    "\n",
    "\n",
    "  ##  a) Integer (int)\n",
    "\n",
    "\t•\tStores whole numbers (positive, negative, zero).\n",
    "\t•\tNo limit on the number size (only memory-dependent)."
   ],
   "id": "43d71b497144c49a"
  },
  {
   "metadata": {
    "ExecuteTime": {
     "end_time": "2025-02-23T06:48:47.158004Z",
     "start_time": "2025-02-23T06:48:47.151318Z"
    }
   },
   "cell_type": "code",
   "source": [
    "a = 100\n",
    "b = -50\n",
    "c = 0\n",
    "print(type(a))  # <class 'int'>"
   ],
   "id": "54197e0f7bff1490",
   "outputs": [
    {
     "name": "stdout",
     "output_type": "stream",
     "text": [
      "<class 'int'>\n"
     ]
    }
   ],
   "execution_count": 2
  },
  {
   "metadata": {
    "ExecuteTime": {
     "end_time": "2025-02-23T06:49:07.730938Z",
     "start_time": "2025-02-23T06:49:07.726980Z"
    }
   },
   "cell_type": "code",
   "source": [
    "x = 10**100  # Large integer\n",
    "print(x)  # No overflow issue in Python"
   ],
   "id": "b2362536608e062c",
   "outputs": [
    {
     "name": "stdout",
     "output_type": "stream",
     "text": [
      "10000000000000000000000000000000000000000000000000000000000000000000000000000000000000000000000000000\n"
     ]
    }
   ],
   "execution_count": 3
  },
  {
   "metadata": {},
   "cell_type": "markdown",
   "source": [
    "## b.) Floating-Point (float)\n",
    "\n",
    "\t•\tStores decimal numbers (single or double precision).\n",
    "\t•\tSupports scientific notation."
   ],
   "id": "57f64976ea4dee92"
  },
  {
   "metadata": {
    "ExecuteTime": {
     "end_time": "2025-02-23T06:53:07.604361Z",
     "start_time": "2025-02-23T06:53:07.600495Z"
    }
   },
   "cell_type": "code",
   "source": [
    "pi = 3.14159\n",
    "scientific = 1.2e3  # 1.2 * 10^3 = 1200.0\n",
    "scientific_1 = 1.2e-3\n",
    "print(scientific)\n",
    "print(scientific_1)\n",
    "print(type(pi))  # <class 'float'>"
   ],
   "id": "b7e29a969d944d36",
   "outputs": [
    {
     "name": "stdout",
     "output_type": "stream",
     "text": [
      "1200.0\n",
      "0.0012\n",
      "<class 'float'>\n"
     ]
    }
   ],
   "execution_count": 5
  },
  {
   "metadata": {},
   "cell_type": "markdown",
   "source": [
    "## c.) Complex (complex)\n",
    "\n",
    "\t•\tStores numbers in the form of a + bj (real + imaginary)."
   ],
   "id": "81b4e4deb2a1c43e"
  },
  {
   "metadata": {
    "ExecuteTime": {
     "end_time": "2025-02-23T06:54:18.162808Z",
     "start_time": "2025-02-23T06:54:18.159022Z"
    }
   },
   "cell_type": "code",
   "source": [
    "c = 2 + 3j\n",
    "print(c.real)  # 2.0\n",
    "print(c.imag)  # 3.0"
   ],
   "id": "523bb803b2c775f0",
   "outputs": [
    {
     "name": "stdout",
     "output_type": "stream",
     "text": [
      "2.0\n",
      "3.0\n"
     ]
    }
   ],
   "execution_count": 6
  },
  {
   "metadata": {},
   "cell_type": "markdown",
   "source": [
    "# 2. Sequence Data Types\n",
    "\n",
    "Stores an ordered collection of items."
   ],
   "id": "dcab59ecf48fdd3e"
  },
  {
   "metadata": {},
   "cell_type": "markdown",
   "source": [
    "## 2.1 Lists (list)\n",
    "\t•\tOrdered, mutable (can be changed), allows duplicates."
   ],
   "id": "8ae66d605d4a83d6"
  },
  {
   "metadata": {
    "ExecuteTime": {
     "end_time": "2025-02-23T06:57:04.563900Z",
     "start_time": "2025-02-23T06:57:04.557625Z"
    }
   },
   "cell_type": "code",
   "source": [
    "my_list = [1, 2, 3, \"hello\", 4.5]\n",
    "my_list.append(6)  # Adds an element\n",
    "print(my_list[0])  # Accessing first element"
   ],
   "id": "aef1c80b4d790163",
   "outputs": [
    {
     "name": "stdout",
     "output_type": "stream",
     "text": [
      "1\n"
     ]
    }
   ],
   "execution_count": 7
  },
  {
   "metadata": {
    "ExecuteTime": {
     "end_time": "2025-02-23T06:57:17.826874Z",
     "start_time": "2025-02-23T06:57:17.821479Z"
    }
   },
   "cell_type": "code",
   "source": [
    "# List Comprehension\n",
    "squares = [x**2 for x in range(5)]\n",
    "print(squares)  # [0, 1, 4, 9, 16]"
   ],
   "id": "6abe0d1e4e3697a3",
   "outputs": [
    {
     "name": "stdout",
     "output_type": "stream",
     "text": [
      "[0, 1, 4, 9, 16]\n"
     ]
    }
   ],
   "execution_count": 8
  },
  {
   "metadata": {},
   "cell_type": "markdown",
   "source": [
    "## 2.2 Tuples (tuple)\n",
    "\t•\tOrdered, immutable (cannot be changed after creation)."
   ],
   "id": "6159f7612336f213"
  },
  {
   "metadata": {
    "ExecuteTime": {
     "end_time": "2025-02-23T06:57:51.232270Z",
     "start_time": "2025-02-23T06:57:51.228535Z"
    }
   },
   "cell_type": "code",
   "source": [
    "my_tuple = (10, 20, 30, \"world\")\n",
    "print(my_tuple[1])  # 20"
   ],
   "id": "372c26b66b7929fb",
   "outputs": [
    {
     "name": "stdout",
     "output_type": "stream",
     "text": [
      "20\n"
     ]
    }
   ],
   "execution_count": 9
  },
  {
   "metadata": {},
   "cell_type": "markdown",
   "source": [
    "## 2.3 Ranges (range)\n",
    "\t•\tRepresents a sequence of numbers."
   ],
   "id": "2b5deae096a462ac"
  },
  {
   "metadata": {
    "ExecuteTime": {
     "end_time": "2025-02-23T06:58:24.929275Z",
     "start_time": "2025-02-23T06:58:24.925360Z"
    }
   },
   "cell_type": "code",
   "source": [
    "r = range(1, 10, 2)  # (start, stop, step)\n",
    "print(list(r))  # [1, 3, 5, 7, 9]"
   ],
   "id": "34f6a1cd74e77eb5",
   "outputs": [
    {
     "name": "stdout",
     "output_type": "stream",
     "text": [
      "[1, 3, 5, 7, 9]\n"
     ]
    }
   ],
   "execution_count": 10
  },
  {
   "metadata": {},
   "cell_type": "markdown",
   "source": [
    "# 3. Text Data Type\n",
    "\n",
    "## 3.1 Strings (str)\n",
    "\t•\tImmutable sequence of characters."
   ],
   "id": "dd24ab5f50fea2bc"
  },
  {
   "metadata": {
    "ExecuteTime": {
     "end_time": "2025-02-23T07:01:09.396713Z",
     "start_time": "2025-02-23T07:01:09.390841Z"
    }
   },
   "cell_type": "code",
   "source": [
    "text = \"Python\"\n",
    "print(text[0])  # P\n",
    "print(text[::-1])  # Reverse string"
   ],
   "id": "5aeaa7c3b93f8d39",
   "outputs": [
    {
     "name": "stdout",
     "output_type": "stream",
     "text": [
      "P\n",
      "nohtyP\n"
     ]
    }
   ],
   "execution_count": 11
  },
  {
   "metadata": {
    "ExecuteTime": {
     "end_time": "2025-02-23T07:01:28.007553Z",
     "start_time": "2025-02-23T07:01:28.004316Z"
    }
   },
   "cell_type": "code",
   "source": [
    "name = \"Alice\"\n",
    "print(name.upper())  # ALICE\n",
    "print(name.replace(\"A\", \"E\"))  # Elice"
   ],
   "id": "2924632129a222ee",
   "outputs": [
    {
     "name": "stdout",
     "output_type": "stream",
     "text": [
      "ALICE\n",
      "Elice\n"
     ]
    }
   ],
   "execution_count": 12
  },
  {
   "metadata": {},
   "cell_type": "markdown",
   "source": [
    "# 4. Set Data Types\n",
    "\n",
    "Stores unordered, unique elements.\n",
    "\n",
    "## 4.1 Sets (set)\n",
    "\t•\tMutable, no duplicate elements allowed."
   ],
   "id": "d9d209b58f2e7464"
  },
  {
   "metadata": {
    "ExecuteTime": {
     "end_time": "2025-02-23T07:08:00.609577Z",
     "start_time": "2025-02-23T07:08:00.602866Z"
    }
   },
   "cell_type": "code",
   "source": [
    "my_set = {1, 2, 3, 3, 4}\n",
    "my_set.add(5)\n",
    "print(my_set)  # {1, 2, 3, 4, 5}"
   ],
   "id": "b87bdda416ae2905",
   "outputs": [
    {
     "name": "stdout",
     "output_type": "stream",
     "text": [
      "{1, 2, 3, 4, 5}\n"
     ]
    }
   ],
   "execution_count": 13
  },
  {
   "metadata": {},
   "cell_type": "markdown",
   "source": [
    "## 4.2 Frozen Sets (frozenset)\n",
    "\t•\tImmutable version of a set."
   ],
   "id": "4730fd13b8071729"
  },
  {
   "metadata": {
    "ExecuteTime": {
     "end_time": "2025-02-23T07:09:37.736989Z",
     "start_time": "2025-02-23T07:09:37.589234Z"
    }
   },
   "cell_type": "code",
   "source": [
    "fset = frozenset([1, 2, 3, 4])\n",
    "fset.add(5)  # Error: Cannot modify"
   ],
   "id": "217040d603f48e5c",
   "outputs": [
    {
     "ename": "AttributeError",
     "evalue": "'frozenset' object has no attribute 'add'",
     "output_type": "error",
     "traceback": [
      "\u001B[0;31m---------------------------------------------------------------------------\u001B[0m",
      "\u001B[0;31mAttributeError\u001B[0m                            Traceback (most recent call last)",
      "Cell \u001B[0;32mIn[16], line 2\u001B[0m\n\u001B[1;32m      1\u001B[0m fset \u001B[38;5;241m=\u001B[39m \u001B[38;5;28mfrozenset\u001B[39m([\u001B[38;5;241m1\u001B[39m, \u001B[38;5;241m2\u001B[39m, \u001B[38;5;241m3\u001B[39m, \u001B[38;5;241m4\u001B[39m])\n\u001B[0;32m----> 2\u001B[0m \u001B[43mfset\u001B[49m\u001B[38;5;241;43m.\u001B[39;49m\u001B[43madd\u001B[49m(\u001B[38;5;241m5\u001B[39m)  \u001B[38;5;66;03m# Error: Cannot modify\u001B[39;00m\n",
      "\u001B[0;31mAttributeError\u001B[0m: 'frozenset' object has no attribute 'add'"
     ]
    }
   ],
   "execution_count": 16
  },
  {
   "metadata": {},
   "cell_type": "markdown",
   "source": [
    "# 5. Mapping Data Type\n",
    "\n",
    "## 5.1 Dictionary (dict)\n",
    "\t•\tStores key-value pairs, mutable."
   ],
   "id": "e875b75a83b4ac8d"
  },
  {
   "metadata": {
    "ExecuteTime": {
     "end_time": "2025-02-23T07:10:17.957981Z",
     "start_time": "2025-02-23T07:10:17.948478Z"
    }
   },
   "cell_type": "code",
   "source": [
    "student = {\"name\": \"Alice\", \"age\": 20}\n",
    "student[\"grade\"] = \"A\"  # Add new key-value pair\n",
    "print(student[\"name\"])  # Alice"
   ],
   "id": "6bb152567d48e7cf",
   "outputs": [
    {
     "name": "stdout",
     "output_type": "stream",
     "text": [
      "Alice\n"
     ]
    }
   ],
   "execution_count": 17
  },
  {
   "metadata": {
    "ExecuteTime": {
     "end_time": "2025-02-23T07:10:24.017031Z",
     "start_time": "2025-02-23T07:10:24.012975Z"
    }
   },
   "cell_type": "code",
   "source": [
    "# Dictionary Comprehension\n",
    "squares = {x: x**2 for x in range(5)}\n",
    "print(squares)  # {0: 0, 1: 1, 2: 4, 3: 9, 4: 16}"
   ],
   "id": "6edd21d742851be2",
   "outputs": [
    {
     "name": "stdout",
     "output_type": "stream",
     "text": [
      "{0: 0, 1: 1, 2: 4, 3: 9, 4: 16}\n"
     ]
    }
   ],
   "execution_count": 18
  },
  {
   "metadata": {},
   "cell_type": "markdown",
   "source": [
    "# 6. Boolean Data Type\n",
    "\n",
    "## 6.1 Boolean (bool)\n",
    "\t•\tRepresents True or False."
   ],
   "id": "2a0f21b817047ac7"
  },
  {
   "metadata": {
    "ExecuteTime": {
     "end_time": "2025-02-23T07:11:00.012237Z",
     "start_time": "2025-02-23T07:11:00.009499Z"
    }
   },
   "cell_type": "code",
   "source": [
    "is_python_fun = True\n",
    "print(bool(0))  # False\n",
    "print(bool(\"Hello\"))  # True"
   ],
   "id": "c999a8baafd7d08a",
   "outputs": [
    {
     "name": "stdout",
     "output_type": "stream",
     "text": [
      "False\n",
      "True\n"
     ]
    }
   ],
   "execution_count": 19
  },
  {
   "metadata": {},
   "cell_type": "markdown",
   "source": [
    "# 7. Binary Data Types\n",
    "\n",
    "Used for handling binary data.\n",
    "\n",
    "## 7.1 Bytes (bytes)\n",
    "\t•\tImmutable sequence of bytes."
   ],
   "id": "30bfa86fb0935c09"
  },
  {
   "metadata": {
    "ExecuteTime": {
     "end_time": "2025-02-23T07:11:35.391322Z",
     "start_time": "2025-02-23T07:11:35.387833Z"
    }
   },
   "cell_type": "code",
   "source": [
    "b = bytes([65, 66, 67])  # ASCII values\n",
    "print(b)  # b'ABC'"
   ],
   "id": "2b8551e7c858ab40",
   "outputs": [
    {
     "name": "stdout",
     "output_type": "stream",
     "text": [
      "b'ABC'\n"
     ]
    }
   ],
   "execution_count": 20
  },
  {
   "metadata": {},
   "cell_type": "markdown",
   "source": [
    "## 7.2 Bytearray (bytearray)\n",
    "\t•\tMutable version of bytes."
   ],
   "id": "49a74ab55a021c9a"
  },
  {
   "metadata": {
    "ExecuteTime": {
     "end_time": "2025-02-23T07:11:58.220456Z",
     "start_time": "2025-02-23T07:11:58.216572Z"
    }
   },
   "cell_type": "code",
   "source": [
    "ba = bytearray([68, 69, 70])\n",
    "ba[0] = 65  # Modify first byte\n",
    "print(ba)  # b'AEF'"
   ],
   "id": "6e1b9e8ba8d7fc93",
   "outputs": [
    {
     "name": "stdout",
     "output_type": "stream",
     "text": [
      "bytearray(b'AEF')\n"
     ]
    }
   ],
   "execution_count": 21
  },
  {
   "metadata": {},
   "cell_type": "markdown",
   "source": [
    "# 8. None Type\n",
    "\n",
    "## 8.1 None (NoneType)\n",
    "•\tRepresents absence of a value."
   ],
   "id": "211bbc5e6e28a280"
  },
  {
   "metadata": {
    "ExecuteTime": {
     "end_time": "2025-02-23T07:12:45.481746Z",
     "start_time": "2025-02-23T07:12:45.478024Z"
    }
   },
   "cell_type": "code",
   "source": [
    "result = None\n",
    "print(type(result))  # <class 'NoneType'>"
   ],
   "id": "4974235c0e294904",
   "outputs": [
    {
     "name": "stdout",
     "output_type": "stream",
     "text": [
      "<class 'NoneType'>\n"
     ]
    }
   ],
   "execution_count": 22
  },
  {
   "metadata": {},
   "cell_type": "markdown",
   "source": [
    "# Type Checking & Conversion\n",
    "\n",
    "### Checking Data Type"
   ],
   "id": "9a369e07d0cbddb1"
  },
  {
   "metadata": {
    "ExecuteTime": {
     "end_time": "2025-02-23T07:13:38.348701Z",
     "start_time": "2025-02-23T07:13:38.346063Z"
    }
   },
   "cell_type": "code",
   "source": [
    "print(type(42))  # <class 'int'>\n",
    "print(type(3.14))  # <class 'float'>"
   ],
   "id": "c214b05c2f168752",
   "outputs": [
    {
     "name": "stdout",
     "output_type": "stream",
     "text": [
      "<class 'int'>\n",
      "<class 'float'>\n"
     ]
    }
   ],
   "execution_count": 23
  },
  {
   "metadata": {
    "ExecuteTime": {
     "end_time": "2025-02-23T07:13:44.509171Z",
     "start_time": "2025-02-23T07:13:44.506443Z"
    }
   },
   "cell_type": "code",
   "source": [
    "print(int(3.7))  # 3\n",
    "print(float(\"10.5\"))  # 10.5\n",
    "print(str(100))  # \"100\""
   ],
   "id": "c51dd9652b9d63d0",
   "outputs": [
    {
     "name": "stdout",
     "output_type": "stream",
     "text": [
      "3\n",
      "10.5\n",
      "100\n"
     ]
    }
   ],
   "execution_count": 24
  },
  {
   "metadata": {},
   "cell_type": "markdown",
   "source": [
    "| Data Type   | Mutable? | Example               |\n",
    "|------------|----------|-----------------------|\n",
    "| `int`      | ❌ No    | `x = 10`              |\n",
    "| `float`    | ❌ No    | `y = 3.14`            |\n",
    "| `complex`  | ❌ No    | `z = 2+3j`            |\n",
    "| `str`      | ❌ No    | `\"hello\"`             |\n",
    "| `list`     | ✅ Yes   | `[1, 2, 3]`           |\n",
    "| `tuple`    | ❌ No    | `(1, 2, 3)`           |\n",
    "| `range`    | ❌ No    | `range(5)`            |\n",
    "| `set`      | ✅ Yes   | `{1, 2, 3}`           |\n",
    "| `frozenset`| ❌ No    | `frozenset([1, 2, 3])`|\n",
    "| `dict`     | ✅ Yes   | `{\"key\": \"value\"}`    |\n",
    "| `bytes`    | ❌ No    | `b\"ABC\"`              |\n",
    "| `bytearray`| ✅ Yes   | `bytearray([65, 66])` |"
   ],
   "id": "24e0c2519f2cdda6"
  },
  {
   "metadata": {},
   "cell_type": "markdown",
   "source": "",
   "id": "94ad15fa0db478c0"
  }
 ],
 "metadata": {
  "kernelspec": {
   "display_name": "Python 3",
   "language": "python",
   "name": "python3"
  },
  "language_info": {
   "codemirror_mode": {
    "name": "ipython",
    "version": 2
   },
   "file_extension": ".py",
   "mimetype": "text/x-python",
   "name": "python",
   "nbconvert_exporter": "python",
   "pygments_lexer": "ipython2",
   "version": "2.7.6"
  }
 },
 "nbformat": 4,
 "nbformat_minor": 5
}
