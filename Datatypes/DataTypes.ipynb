{
 "cells": [
  {
   "metadata": {},
   "cell_type": "markdown",
   "source": [
    "# Datatypes\n",
    "\n",
    "  - Numeric datatypes\n",
    "    - Integer (Int)\n",
    "    - float\n",
    "    - Complex Numbers\n",
    "\n",
    "\n"
   ],
   "id": "f7a5ea4110c00c0"
  },
  {
   "metadata": {},
   "cell_type": "markdown",
   "source": [
    "## Integer Datatype\n",
    "In Python, the integer data type (int) is used to represent whole numbers (positive, negative, or zero) without a fractional part. Python’s int type is unbounded, meaning it can hold very large numbers as long as there is enough memory.\n",
    "\n",
    "\n",
    "### Characteristics of int in Python\n",
    "\n",
    "\n",
    "\t•\tNo limit on size (unlike C or Java, which have fixed int sizes)\n",
    "\t•\tSupports arithmetic operations (+, -, *, //, %, etc.)\n",
    "\t•\tCan be represented in different number systems (decimal, binary, octal, hexadecimal)\n"
   ],
   "id": "79bd09000a8b1cdc"
  },
  {
   "metadata": {
    "collapsed": true,
    "ExecuteTime": {
     "end_time": "2025-02-24T15:42:52.434850Z",
     "start_time": "2025-02-24T15:42:52.428889Z"
    }
   },
   "cell_type": "code",
   "source": [
    "# Decimal integer\n",
    "a = 10\n",
    "print(type(a))  # Output: <class 'int'>\n",
    "\n",
    "# Large integer\n",
    "b = 987654321987654321\n",
    "print(type(b))  # Output: <class 'int'>\n",
    "\n",
    "# Binary integer (prefix `0b`)\n",
    "c = 0b1010  # 10 in decimal\n",
    "print(c)  # Output: 10\n",
    "\n",
    "# Octal integer (prefix `0o`)\n",
    "d = 0o12  # 10 in decimal\n",
    "print(d)  # Output: 10\n",
    "\n",
    "# Hexadecimal integer (prefix `0x`)\n",
    "e = 0xA  # 10 in decimal\n",
    "print(e)  # Output: 10"
   ],
   "id": "initial_id",
   "outputs": [
    {
     "name": "stdout",
     "output_type": "stream",
     "text": [
      "<class 'int'>\n",
      "<class 'int'>\n",
      "10\n",
      "10\n",
      "10\n"
     ]
    }
   ],
   "execution_count": 1
  },
  {
   "metadata": {
    "ExecuteTime": {
     "end_time": "2025-02-24T15:43:07.209976Z",
     "start_time": "2025-02-24T15:43:07.205306Z"
    }
   },
   "cell_type": "code",
   "source": [
    "x = 15\n",
    "y = 4\n",
    "\n",
    "print(x + y)   # Addition: 19\n",
    "print(x - y)   # Subtraction: 11\n",
    "print(x * y)   # Multiplication: 60\n",
    "print(x // y)  # Floor Division: 3\n",
    "print(x % y)   # Modulus: 3\n",
    "print(x ** y)  # Exponentiation: 50625"
   ],
   "id": "8c5e08b07402d2",
   "outputs": [
    {
     "name": "stdout",
     "output_type": "stream",
     "text": [
      "19\n",
      "11\n",
      "60\n",
      "3\n",
      "3\n",
      "50625\n"
     ]
    }
   ],
   "execution_count": 2
  },
  {
   "metadata": {},
   "cell_type": "code",
   "outputs": [],
   "execution_count": null,
   "source": "",
   "id": "d3d492137a635821"
  }
 ],
 "metadata": {
  "kernelspec": {
   "display_name": "Python 3",
   "language": "python",
   "name": "python3"
  },
  "language_info": {
   "codemirror_mode": {
    "name": "ipython",
    "version": 2
   },
   "file_extension": ".py",
   "mimetype": "text/x-python",
   "name": "python",
   "nbconvert_exporter": "python",
   "pygments_lexer": "ipython2",
   "version": "2.7.6"
  }
 },
 "nbformat": 4,
 "nbformat_minor": 5
}
